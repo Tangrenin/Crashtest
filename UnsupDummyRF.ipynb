{
 "cells": [
  {
   "cell_type": "code",
   "execution_count": 363,
   "metadata": {},
   "outputs": [],
   "source": [
    "library(randomForest)\n",
    "library(randomForestExplainer)\n",
    "library(cluster)\n",
    "library(boot)"
   ]
  },
  {
   "cell_type": "markdown",
   "metadata": {},
   "source": [
    "# Unsupervised Random Forest :\n",
    "## Test on dummy data\n",
    "On va creer un jeu de donnée test, composé de 4 variables possédant une structure de dépendance et de N-4 variables constituées de bruit uniforme. Le but est de vérifier si la technique d'Unsupervised RF va différencier les variables importantes du bruit.\n",
    "\n",
    "On va également effectuer une MDS a partir d'une matrice de proximité générée par la RF : comme les données seront en grande dimension, la distance euclidienne ne conviendra pas, en lieu de cela, la proximité sera définie par:\n",
    "\n",
    "prox(obvservation i, observation j) = (#fois obj,obi € même feuille) / (#arbres)"
   ]
  },
  {
   "cell_type": "code",
   "execution_count": 364,
   "metadata": {},
   "outputs": [
    {
     "data": {
      "text/html": [
       "<table>\n",
       "<thead><tr><th></th><th scope=col>X1</th><th scope=col>X2</th><th scope=col>X3</th><th scope=col>X4</th><th scope=col>Y1</th><th scope=col>Y2</th><th scope=col>Y3</th><th scope=col>Y4</th><th scope=col>Y5</th><th scope=col>Y6</th></tr></thead>\n",
       "<tbody>\n",
       "\t<tr><th scope=row>X1</th><td> 1.00000000 </td><td> 0.92997118 </td><td> 0.913162196</td><td> 0.78789529 </td><td>-0.018571353</td><td>-0.27496943 </td><td>-0.11642097 </td><td>-0.190384147</td><td> 0.05787837 </td><td>-0.042697651</td></tr>\n",
       "\t<tr><th scope=row>X2</th><td> 0.92997118 </td><td> 1.00000000 </td><td> 0.824698443</td><td> 0.72535338 </td><td>-0.038507669</td><td>-0.35399688 </td><td>-0.04615874 </td><td>-0.102511379</td><td> 0.06424761 </td><td>-0.104877476</td></tr>\n",
       "\t<tr><th scope=row>X3</th><td> 0.91316220 </td><td> 0.82469844 </td><td> 1.000000000</td><td> 0.91880534 </td><td>-0.020219792</td><td>-0.19883471 </td><td>-0.14926813 </td><td>-0.142029395</td><td> 0.11303557 </td><td> 0.007200767</td></tr>\n",
       "\t<tr><th scope=row>X4</th><td> 0.78789529 </td><td> 0.72535338 </td><td> 0.918805336</td><td> 1.00000000 </td><td>-0.060159133</td><td>-0.21480051 </td><td>-0.14172138 </td><td>-0.145958294</td><td> 0.17113722 </td><td>-0.065982050</td></tr>\n",
       "\t<tr><th scope=row>Y1</th><td>-0.01857135 </td><td>-0.03850767 </td><td>-0.020219792</td><td>-0.06015913 </td><td> 1.000000000</td><td>-0.25524931 </td><td>-0.03449364 </td><td> 0.004290984</td><td> 0.08942823 </td><td> 0.310320713</td></tr>\n",
       "\t<tr><th scope=row>Y2</th><td>-0.27496943 </td><td>-0.35399688 </td><td>-0.198834708</td><td>-0.21480051 </td><td>-0.255249313</td><td> 1.00000000 </td><td> 0.15665162 </td><td>-0.074343986</td><td>-0.04442775 </td><td> 0.051071797</td></tr>\n",
       "\t<tr><th scope=row>Y3</th><td>-0.11642097 </td><td>-0.04615874 </td><td>-0.149268128</td><td>-0.14172138 </td><td>-0.034493638</td><td> 0.15665162 </td><td> 1.00000000 </td><td> 0.073267957</td><td> 0.09436524 </td><td> 0.179344158</td></tr>\n",
       "\t<tr><th scope=row>Y4</th><td>-0.19038415 </td><td>-0.10251138 </td><td>-0.142029395</td><td>-0.14595829 </td><td> 0.004290984</td><td>-0.07434399 </td><td> 0.07326796 </td><td> 1.000000000</td><td>-0.05032162 </td><td> 0.184882250</td></tr>\n",
       "\t<tr><th scope=row>Y5</th><td> 0.05787837 </td><td> 0.06424761 </td><td> 0.113035567</td><td> 0.17113722 </td><td> 0.089428230</td><td>-0.04442775 </td><td> 0.09436524 </td><td>-0.050321624</td><td> 1.00000000 </td><td>-0.126472589</td></tr>\n",
       "\t<tr><th scope=row>Y6</th><td>-0.04269765 </td><td>-0.10487748 </td><td> 0.007200767</td><td>-0.06598205 </td><td> 0.310320713</td><td> 0.05107180 </td><td> 0.17934416 </td><td> 0.184882250</td><td>-0.12647259 </td><td> 1.000000000</td></tr>\n",
       "</tbody>\n",
       "</table>\n"
      ],
      "text/latex": [
       "\\begin{tabular}{r|llllllllll}\n",
       "  & X1 & X2 & X3 & X4 & Y1 & Y2 & Y3 & Y4 & Y5 & Y6\\\\\n",
       "\\hline\n",
       "\tX1 &  1.00000000  &  0.92997118  &  0.913162196 &  0.78789529  & -0.018571353 & -0.27496943  & -0.11642097  & -0.190384147 &  0.05787837  & -0.042697651\\\\\n",
       "\tX2 &  0.92997118  &  1.00000000  &  0.824698443 &  0.72535338  & -0.038507669 & -0.35399688  & -0.04615874  & -0.102511379 &  0.06424761  & -0.104877476\\\\\n",
       "\tX3 &  0.91316220  &  0.82469844  &  1.000000000 &  0.91880534  & -0.020219792 & -0.19883471  & -0.14926813  & -0.142029395 &  0.11303557  &  0.007200767\\\\\n",
       "\tX4 &  0.78789529  &  0.72535338  &  0.918805336 &  1.00000000  & -0.060159133 & -0.21480051  & -0.14172138  & -0.145958294 &  0.17113722  & -0.065982050\\\\\n",
       "\tY1 & -0.01857135  & -0.03850767  & -0.020219792 & -0.06015913  &  1.000000000 & -0.25524931  & -0.03449364  &  0.004290984 &  0.08942823  &  0.310320713\\\\\n",
       "\tY2 & -0.27496943  & -0.35399688  & -0.198834708 & -0.21480051  & -0.255249313 &  1.00000000  &  0.15665162  & -0.074343986 & -0.04442775  &  0.051071797\\\\\n",
       "\tY3 & -0.11642097  & -0.04615874  & -0.149268128 & -0.14172138  & -0.034493638 &  0.15665162  &  1.00000000  &  0.073267957 &  0.09436524  &  0.179344158\\\\\n",
       "\tY4 & -0.19038415  & -0.10251138  & -0.142029395 & -0.14595829  &  0.004290984 & -0.07434399  &  0.07326796  &  1.000000000 & -0.05032162  &  0.184882250\\\\\n",
       "\tY5 &  0.05787837  &  0.06424761  &  0.113035567 &  0.17113722  &  0.089428230 & -0.04442775  &  0.09436524  & -0.050321624 &  1.00000000  & -0.126472589\\\\\n",
       "\tY6 & -0.04269765  & -0.10487748  &  0.007200767 & -0.06598205  &  0.310320713 &  0.05107180  &  0.17934416  &  0.184882250 & -0.12647259  &  1.000000000\\\\\n",
       "\\end{tabular}\n"
      ],
      "text/markdown": [
       "\n",
       "| <!--/--> | X1 | X2 | X3 | X4 | Y1 | Y2 | Y3 | Y4 | Y5 | Y6 | \n",
       "|---|---|---|---|---|---|---|---|---|---|\n",
       "| X1 |  1.00000000  |  0.92997118  |  0.913162196 |  0.78789529  | -0.018571353 | -0.27496943  | -0.11642097  | -0.190384147 |  0.05787837  | -0.042697651 | \n",
       "| X2 |  0.92997118  |  1.00000000  |  0.824698443 |  0.72535338  | -0.038507669 | -0.35399688  | -0.04615874  | -0.102511379 |  0.06424761  | -0.104877476 | \n",
       "| X3 |  0.91316220  |  0.82469844  |  1.000000000 |  0.91880534  | -0.020219792 | -0.19883471  | -0.14926813  | -0.142029395 |  0.11303557  |  0.007200767 | \n",
       "| X4 |  0.78789529  |  0.72535338  |  0.918805336 |  1.00000000  | -0.060159133 | -0.21480051  | -0.14172138  | -0.145958294 |  0.17113722  | -0.065982050 | \n",
       "| Y1 | -0.01857135  | -0.03850767  | -0.020219792 | -0.06015913  |  1.000000000 | -0.25524931  | -0.03449364  |  0.004290984 |  0.08942823  |  0.310320713 | \n",
       "| Y2 | -0.27496943  | -0.35399688  | -0.198834708 | -0.21480051  | -0.255249313 |  1.00000000  |  0.15665162  | -0.074343986 | -0.04442775  |  0.051071797 | \n",
       "| Y3 | -0.11642097  | -0.04615874  | -0.149268128 | -0.14172138  | -0.034493638 |  0.15665162  |  1.00000000  |  0.073267957 |  0.09436524  |  0.179344158 | \n",
       "| Y4 | -0.19038415  | -0.10251138  | -0.142029395 | -0.14595829  |  0.004290984 | -0.07434399  |  0.07326796  |  1.000000000 | -0.05032162  |  0.184882250 | \n",
       "| Y5 |  0.05787837  |  0.06424761  |  0.113035567 |  0.17113722  |  0.089428230 | -0.04442775  |  0.09436524  | -0.050321624 |  1.00000000  | -0.126472589 | \n",
       "| Y6 | -0.04269765  | -0.10487748  |  0.007200767 | -0.06598205  |  0.310320713 |  0.05107180  |  0.17934416  |  0.184882250 | -0.12647259  |  1.000000000 | \n",
       "\n",
       "\n"
      ],
      "text/plain": [
       "   X1          X2          X3           X4          Y1           Y2         \n",
       "X1  1.00000000  0.92997118  0.913162196  0.78789529 -0.018571353 -0.27496943\n",
       "X2  0.92997118  1.00000000  0.824698443  0.72535338 -0.038507669 -0.35399688\n",
       "X3  0.91316220  0.82469844  1.000000000  0.91880534 -0.020219792 -0.19883471\n",
       "X4  0.78789529  0.72535338  0.918805336  1.00000000 -0.060159133 -0.21480051\n",
       "Y1 -0.01857135 -0.03850767 -0.020219792 -0.06015913  1.000000000 -0.25524931\n",
       "Y2 -0.27496943 -0.35399688 -0.198834708 -0.21480051 -0.255249313  1.00000000\n",
       "Y3 -0.11642097 -0.04615874 -0.149268128 -0.14172138 -0.034493638  0.15665162\n",
       "Y4 -0.19038415 -0.10251138 -0.142029395 -0.14595829  0.004290984 -0.07434399\n",
       "Y5  0.05787837  0.06424761  0.113035567  0.17113722  0.089428230 -0.04442775\n",
       "Y6 -0.04269765 -0.10487748  0.007200767 -0.06598205  0.310320713  0.05107180\n",
       "   Y3          Y4           Y5          Y6          \n",
       "X1 -0.11642097 -0.190384147  0.05787837 -0.042697651\n",
       "X2 -0.04615874 -0.102511379  0.06424761 -0.104877476\n",
       "X3 -0.14926813 -0.142029395  0.11303557  0.007200767\n",
       "X4 -0.14172138 -0.145958294  0.17113722 -0.065982050\n",
       "Y1 -0.03449364  0.004290984  0.08942823  0.310320713\n",
       "Y2  0.15665162 -0.074343986 -0.04442775  0.051071797\n",
       "Y3  1.00000000  0.073267957  0.09436524  0.179344158\n",
       "Y4  0.07326796  1.000000000 -0.05032162  0.184882250\n",
       "Y5  0.09436524 -0.050321624  1.00000000 -0.126472589\n",
       "Y6  0.17934416  0.184882250 -0.12647259  1.000000000"
      ]
     },
     "metadata": {},
     "output_type": "display_data"
    }
   ],
   "source": [
    "###Création des variables dépendantes\n",
    "\n",
    "nb_genes = 10\n",
    "nb_cells = 50 \n",
    "\n",
    "#Dépendances linéaires :\n",
    "#X1 = runif(nb_cells) ; X2 = (X1 + runif(nb_cells)/4)/1.25 ; X3 = (X1 + runif(nb_cells))/2 ; X4 = (X3 + runif(nb_cells)/2)/1.5\n",
    "\n",
    "#Dépendances polynomiales : \n",
    "#X1 = runif(nb_cells) ; X2 = X1^4  ; X3 = (X1^2 + X2^2)/2 ; X4 = X2^13\n",
    "\n",
    "#Variables \"clusterisées : \n",
    "#X1 = runif(nb_cells, 0, 0.25) ; X2 = runif(nb_cells, 0.25, 0.5) ; X3 = runif(nb_cells, 0.5, 0.75) ; X4 = runif(nb_cells, 0.75, 1)\n",
    "\n",
    "#Dépendance + \"clusterisées :\n",
    "X1 = runif(nb_cells, 0, 0.25) ; X2 = X1 + 0.25 + runif(nb_cells, -0.05, 0.05) ; X3 = X1 + 0.5 + runif(nb_cells, -0.05, 0.05) ; X4 = X3 + 0.25 + runif(nb_cells, -0.05, 0.05)\n",
    "\n",
    "#On créé une grande matrice d'expression de gènes\n",
    "GeneExpr = data.frame(matrix(c(X1,X2, X3, X4), nb_cells, 4))\n",
    "for (i in 1:(nb_genes-4)){\n",
    "    GeneExpr[paste('Y', toString(i), sep='')] = runif(nb_cells)\n",
    "}\n",
    "\n",
    "#On remarque que les premières variables sont corrélées entre elles\n",
    "cor(GeneExpr)[1:10,1:10]"
   ]
  },
  {
   "cell_type": "markdown",
   "metadata": {},
   "source": [
    "On crée un jeu de données synthétiques en effectuant un Bootstrap des observations de notre matrice d'expression de gêne. Ce jeu de données nous servira pour transformée le problème d'apprentissage non supervisé en problème supervisé."
   ]
  },
  {
   "cell_type": "code",
   "execution_count": 365,
   "metadata": {},
   "outputs": [],
   "source": [
    "synth_GeneExpr = GeneExpr\n",
    "for (i in nb_genes){\n",
    "    synth_GeneExpr[,i] = sample(GeneExpr[,i], replace = TRUE)\n",
    "}"
   ]
  },
  {
   "cell_type": "markdown",
   "metadata": {},
   "source": [
    "On crée deux classes arbitraires en rangeant nos données \"réelles\" dans l'une et nos données synthetiques dans l'autre. On va fit notre RF sur cette classification pour lui faire discerner les structures de dépendances entre les gènes."
   ]
  },
  {
   "cell_type": "code",
   "execution_count": 366,
   "metadata": {
    "scrolled": true
   },
   "outputs": [],
   "source": [
    "synth_GeneExpr['Classe'] = vector('numeric', nb_cells) #Les données synthétiques dans la classe '0'\n",
    "GeneExpr['Classe'] = vector('numeric', nb_cells)+1 #Les données synthétiques dans la classe '1'\n",
    "\n",
    "train_GeneExpr = rbind(GeneExpr, synth_GeneExpr)\n",
    "train_GeneExpr$Classe = factor(train_GeneExpr$Classe) #On change le type pour qu'il soit reconnu dans la RF en classification\n",
    "#train_GeneExpr"
   ]
  },
  {
   "cell_type": "markdown",
   "metadata": {},
   "source": [
    "\n",
    "\n",
    "<br><br><br><br>\n",
    "\n",
    "# Random forest avec Addcl1 \"homemade\""
   ]
  },
  {
   "cell_type": "code",
   "execution_count": 367,
   "metadata": {},
   "outputs": [],
   "source": [
    "fit = randomForest(Classe~.-Classe,\n",
    "                   data=train_GeneExpr,\n",
    "                   mtry=as.integer(sqrt(nb_genes)),\n",
    "                   ntree = 800,\n",
    "                   proximity=TRUE, \n",
    "                   importance =TRUE\n",
    "                   )"
   ]
  },
  {
   "cell_type": "code",
   "execution_count": 368,
   "metadata": {
    "scrolled": false
   },
   "outputs": [
    {
     "data": {
      "text/plain": [
       "\n",
       "Call:\n",
       " randomForest(formula = Classe ~ . - Classe, data = train_GeneExpr,      mtry = as.integer(sqrt(nb_genes)), ntree = 800, proximity = TRUE,      importance = TRUE) \n",
       "               Type of random forest: classification\n",
       "                     Number of trees: 800\n",
       "No. of variables tried at each split: 3\n",
       "\n",
       "        OOB estimate of  error rate: 99%\n",
       "Confusion matrix:\n",
       "   0  1 class.error\n",
       "0  1 49        0.98\n",
       "1 50  0        1.00"
      ]
     },
     "metadata": {},
     "output_type": "display_data"
    },
    {
     "data": {
      "image/png": "[encoded data removed]",
      "text/plain": [
       "plot without title"
      ]
     },
     "metadata": {},
     "output_type": "display_data"
    }
   ],
   "source": [
    "fit\n",
    "varImpPlot(fit)"
   ]
  },
  {
   "cell_type": "markdown",
   "metadata": {},
   "source": [
    "<br><br><br><br>\n",
    "## On réessaie en utilisant la fonction de sampling Addcl1 de Briemann"
   ]
  },
  {
   "cell_type": "code",
   "execution_count": 369,
   "metadata": {},
   "outputs": [],
   "source": [
    "GeneExpr$Classe = NULL\n",
    "fit2 = randomForest(GeneExpr[-205], addclass = 1, importance = TRUE, proximity = TRUE)"
   ]
  },
  {
   "cell_type": "code",
   "execution_count": 370,
   "metadata": {},
   "outputs": [
    {
     "data": {
      "text/plain": [
       "\n",
       "Call:\n",
       " randomForest(x = GeneExpr[-205], importance = TRUE, proximity = TRUE,      addclass = 1) \n",
       "               Type of random forest: unsupervised\n",
       "                     Number of trees: 500\n",
       "No. of variables tried at each split: 3\n"
      ]
     },
     "metadata": {},
     "output_type": "display_data"
    },
    {
     "data": {
      "image/png": "[encoded data removed]",
      "text/plain": [
       "plot without title"
      ]
     },
     "metadata": {},
     "output_type": "display_data"
    }
   ],
   "source": [
    "fit2\n",
    "varImpPlot(fit2)"
   ]
  },
  {
   "cell_type": "markdown",
   "metadata": {},
   "source": [
    "## MDS"
   ]
  },
  {
   "cell_type": "code",
   "execution_count": 371,
   "metadata": {},
   "outputs": [
    {
     "name": "stderr",
     "output_type": "stream",
     "text": [
      "Warning message in RColorBrewer::brewer.pal(nlevs, \"Set1\"):\n",
      "\"minimal value for n is 3, returning requested palette with 3 different levels\n",
      "\""
     ]
    },
    {
     "data": {
      "image/png": "[encoded data removed]",
      "text/plain": [
       "plot without title"
      ]
     },
     "metadata": {},
     "output_type": "display_data"
    }
   ],
   "source": [
    "MDSplot(fit2, fit2$classes)"
   ]
  }
 ],
 "metadata": {
  "kernelspec": {
   "display_name": "R",
   "language": "R",
   "name": "ir"
  },
  "language_info": {
   "codemirror_mode": "r",
   "file_extension": ".r",
   "mimetype": "text/x-r-source",
   "name": "R",
   "pygments_lexer": "r",
   "version": "3.4.4"
  }
 },
 "nbformat": 4,
 "nbformat_minor": 2
}
