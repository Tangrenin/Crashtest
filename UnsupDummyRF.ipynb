{
 "cells": [
  {
   "cell_type": "code",
   "execution_count": 2,
   "metadata": {},
   "outputs": [
    {
     "name": "stderr",
     "output_type": "stream",
     "text": [
      "randomForest 4.6-14\n",
      "Type rfNews() to see new features/changes/bug fixes.\n",
      "Loading required package: rJava\n"
     ]
    }
   ],
   "source": [
    "library(randomForest)\n",
    "library(extraTrees)\n",
    "library(cluster)\n",
    "library(boot)"
   ]
  },
  {
   "cell_type": "markdown",
   "metadata": {},
   "source": [
    "# Unsupervised Random Forest : test on dummy data\n",
    "\n",
    "\n",
    "## Variables utilisées : "
   ]
  },
  {
   "cell_type": "code",
   "execution_count": 3,
   "metadata": {},
   "outputs": [],
   "source": [
    "nb_var = 500 #Nombre de variables\n",
    "nb_obs = 200 #Nombre d'observations\n",
    "nb_bruit = 50 #Nombre de variables de bruit\n",
    "K = 3 #Nombre de clusters\n",
    "sd = 2 #Standard deviation des clusters gaussiens\n",
    "sparsity = 60/100 # Sparsité naïve : pourcentage de 0 ajoutés aléatoirement dans les données\n",
    "struct_sparsity = 40/100 #Sparsité structurée : les zéros sont mis dans les mêmes colonnes au sein d'un même cluster\n",
    "\n",
    "\n",
    "nb_forests = 5\n",
    "nb_trees = 800\n",
    "mtry = as.integer(sqrt(nb_var))"
   ]
  },
  {
   "cell_type": "markdown",
   "metadata": {},
   "source": [
    "## Génération des données : "
   ]
  },
  {
   "cell_type": "code",
   "execution_count": 4,
   "metadata": {},
   "outputs": [],
   "source": [
    "#Clusters alignés (dépendance linaire)\n",
    "Gen_Clust_dat_1 = function(K, nb_var, nb_obs){ #On génère des données dans des clusters gaussien\n",
    "    #On crée les centre des clusters\n",
    "    clust_centers = data.frame()\n",
    "    for (i in 1:K){\n",
    "        clust_centers = rbind(clust_centers, numeric(nb_var) + i*5*sd + runif(nb_var, -3, 3))\n",
    "    }\n",
    "    #On génère les clusters : les centres sont tous sur la droite y = x et ecartés des 5 écarts types\n",
    "    Data = data.frame()\n",
    "    clust_index = data.frame()\n",
    "    for (i in 1:(nb_obs)){\n",
    "        clust_index = rbind(clust_index, sample(1:K, 1))\n",
    "        Data = rbind(Data, rnorm(nb_var, mean = as.numeric(clust_centers[clust_index[i,1],]) ) )\n",
    "    }\n",
    "    return (list(Data, clust_index))\n",
    "}\n",
    "\n",
    "#Clusters placés aléatoirements dans l'espace \n",
    "Gen_Clust_dat_2 = function(K, nb_var, nb_obs){\n",
    "    clust_centers_center = K*(numeric(nb_var)+20*sd)\n",
    "    clust_centers = data.frame()\n",
    "    for (i in 1:K){\n",
    "        clust_centers = rbind(clust_centers, rnorm(nb_var, mean = clust_centers_center, sd = K*8*sd ))\n",
    "    }\n",
    "    \n",
    "    Data = data.frame()\n",
    "    clust_index = data.frame()\n",
    "    for (i in 1:(nb_obs)){\n",
    "        clust_index = rbind(clust_index, sample(1:K, 1))\n",
    "        Data = rbind(Data, rnorm(nb_var, mean = as.numeric(clust_centers[clust_index[i,1],]) ) )\n",
    "    }\n",
    "    return (list(Data, clust_index))\n",
    "}\n",
    "\n",
    "\n",
    "#Sparsity (naïve, casse les clusters) Rend la matrice sparse d'un pourcentage égal à sparsity en mettant des zeros au hasard\n",
    "make_sparse = function(dat, sparsity){\n",
    "    dat2 = as.matrix(dat)\n",
    "    nrow = dim(dat)[1] ; ncol = dim(dat)[2]\n",
    "    dat2[sample(1:(ncol*nrow), as.integer(sparsity*ncol*nrow))] = 0\n",
    "    return(data.frame(dat2))\n",
    "}\n",
    "\n",
    "#Sparsity structurée (selon certaines variables)\n",
    "structured_sparsity = function(Data, K, struct_sparsity, clust_index){\n",
    "    zeros_var = data.frame()\n",
    "    for (i in 1:K){ #On choisit pour chaque cluster quels variables seront annulées\n",
    "        zeros_var = rbind(zeros_var, sample(1:nb_var, as.integer(struct_sparsity*nb_var)))\n",
    "    }\n",
    "    \n",
    "    for (i in 1:nb_obs){#Sur chaque ligne on annule les variables qui doivent être annulées pour ce cluster\n",
    "        Data[ i, as.double( zeros_var[clust_index[i,],] ) ] = 0\n",
    "    }\n",
    "    return(Data)\n",
    "}\n",
    "\n",
    "#Bruitage : on ajout nb_bruits uniforme sur un hyper-rectangle qui englobe les données. \n",
    "bruitage = function(Data, nb_bruit){\n",
    "    for (i in 1:nb_bruit){\n",
    "        Data = cbind(Data, runif(nb_obs, 0, K*5*sd +5*sd))\n",
    "    }\n",
    "    return(Data)\n",
    "}"
   ]
  },
  {
   "cell_type": "markdown",
   "metadata": {},
   "source": [
    "# Choisir paramètres de génération ici : "
   ]
  },
  {
   "cell_type": "code",
   "execution_count": 5,
   "metadata": {},
   "outputs": [],
   "source": [
    "temp = Gen_Clust_dat_2(K, nb_var-nb_bruit, nb_obs)\n",
    "Data = data.frame(temp[1])\n",
    "clust_index = data.frame(temp[2])\n",
    "\n",
    "if (nb_bruit != 0) { Data = bruitage(Data, nb_bruit) }\n",
    "\n",
    "Data = make_sparse(Data, sparsity) #Sparsité naïve\n",
    "# Data = structured_sparsity(Data, K, struct_sparsity, clust_index) #Sparsité structurée"
   ]
  },
  {
   "cell_type": "code",
   "execution_count": 6,
   "metadata": {},
   "outputs": [],
   "source": [
    "#On renomme les variable de signal Xi et variable de bruit Yi\n",
    "for (i in 1:nb_var - nb_bruit){\n",
    "    colnames(Data)[i] = paste(\"X\", toString(i), sep='')\n",
    "}\n",
    "\n",
    "if (nb_bruit != 0){\n",
    "    for (i in 1:nb_bruit){\n",
    "        colnames(Data)[i + nb_var - nb_bruit] = paste(\"Y\", toString(i), sep='')\n",
    "    }\n",
    "}\n",
    "# #Rescaling des données sur [0,1]\n",
    "# rescale = function(X) { (X - min(X))/(max(X) - min(X)) }\n",
    "# Data = data.frame(apply(Data, 2, rescale))"
   ]
  },
  {
   "cell_type": "code",
   "execution_count": 7,
   "metadata": {},
   "outputs": [
    {
     "data": {
      "image/png": "[encoded data removed]",
      "text/plain": [
       "plot without title"
      ]
     },
     "metadata": {},
     "output_type": "display_data"
    }
   ],
   "source": [
    "plot(Data$X1, Data$X2)"
   ]
  },
  {
   "cell_type": "markdown",
   "metadata": {},
   "source": [
    "## Addcl1\n",
    "\n",
    "On crée un jeu de données synthétiques en effectuant un Bootstrap des observations de notre matrice d'expression de gènes. Ce jeu de données nous servira pour transformée le problème d'apprentissage non supervisé en problème supervisé.\n",
    "\n",
    "On crée deux classes arbitraires en rangeant nos données \"réelles\" dans l'une et nos données synthetiques dans l'autre. On va fit notre RF sur cette classification pour lui faire discerner les structures de dépendances entre les gènes."
   ]
  },
  {
   "cell_type": "code",
   "execution_count": 8,
   "metadata": {
    "scrolled": false
   },
   "outputs": [],
   "source": [
    "addcl1 = function(dat) {\n",
    "        bootstrap = function(X)   { sample(X, replace=T) } \n",
    "        col_bootstrap = function(dat) { apply(dat,2, bootstrap) } #On bootstrap sur chaque colonne\n",
    "        nrow <- dim(dat)[1];\n",
    "        Classe <- rep(c(1,2),c(nrow,nrow) ); #Un vecteur contenant nb_obs 1 et nb_obs 2, les classes sur lesquelles la URF va travailler\n",
    "        data.frame(cbind(Classe,rbind(dat,data.frame(col_bootstrap(dat)))))\n",
    "    }"
   ]
  },
  {
   "cell_type": "markdown",
   "metadata": {},
   "source": [
    "## VarImpPlot pour multi-forets\n",
    "Adaptation du code source de VarImpPlot sur cette page pour le cas multi-forets (https://github.com/cran/randomForest/blob/master/R/varImpPlot.R)"
   ]
  },
  {
   "cell_type": "code",
   "execution_count": 18,
   "metadata": {},
   "outputs": [],
   "source": [
    "varImpPlot_mult = function(imp, sort=TRUE,\n",
    "                       n.var=min(30, nrow(imp)),\n",
    "                       main=deparse(substitute(x)), ...) {\n",
    "    if (ncol(imp) > 2) imp <- imp[, -(1:(ncol(imp) - 2))]\n",
    "    nmeas = ncol(imp)\n",
    "    if (nmeas > 1) {\n",
    "        op = par(mfrow=c(1, 2), mar=c(4, 5, 4, 1), mgp=c(2, .8, 0),\n",
    "                  oma=c(0, 0, 2, 0), no.readonly=TRUE)\n",
    "        on.exit(par(op))\n",
    "    }\n",
    "    for (i in 1:nmeas) {\n",
    "        ord <- if (sort) rev(order(imp[,i],\n",
    "                                   decreasing=TRUE)[1:n.var]) else 1:n.var\n",
    "        xmin <- if (colnames(imp)[i] %in%\n",
    "                    c(\"IncNodePurity\", \"MeanDecreaseGini\")) 0 else min(imp[ord, i])\n",
    "        dotchart(imp[ord,i], xlab=colnames(imp)[i], ylab=\"\",\n",
    "                 main=if (nmeas == 1) main else NULL,\n",
    "                 xlim=c(xmin, max(imp[,i])), ...)\n",
    "    }\n",
    "    if (nmeas > 1) mtext(outer=TRUE, side=3, text=main, cex=1.2)\n",
    "    invisible(imp)\n",
    "}"
   ]
  },
  {
   "cell_type": "markdown",
   "metadata": {},
   "source": [
    "\n",
    "\n",
    "<br><br><br><br>\n",
    "\n",
    "# Random forest avec Addcl1 \"homemade\" :"
   ]
  },
  {
   "cell_type": "code",
   "execution_count": 10,
   "metadata": {},
   "outputs": [],
   "source": [
    "RFproxTotal = matrix(0, nb_obs, nb_obs)\n",
    "RFimportance = matrix(0, nrow=nb_var, ncol=4)\n",
    "for (i in 1:nb_forests){\n",
    "    DataRFsyn = addcl1(Data)\n",
    "    target = DataRFsyn[,1]\n",
    "    RF = randomForest(factor(target)~.,data=DataRFsyn[,-1], ntree=nb_trees, proximity=TRUE, mtry=mtry, importance=TRUE) \n",
    "    RF$prox = RF$prox[1:nb_obs, 1:nb_obs]\n",
    "    RFproxTotal = RFproxTotal + RF$prox\n",
    "    RFimportance = RFimportance + (1/nb_forests)*(RF$importance)\n",
    "}\n",
    "RFproxTotal = RFproxTotal/nb_forests\n"
   ]
  },
  {
   "cell_type": "code",
   "execution_count": 19,
   "metadata": {},
   "outputs": [
    {
     "data": {
      "text/plain": [
       "\n",
       "Call:\n",
       " randomForest(formula = factor(target) ~ ., data = DataRFsyn[,      -1], ntree = nb_trees, proximity = TRUE, mtry = mtry, importance = TRUE) \n",
       "               Type of random forest: classification\n",
       "                     Number of trees: 800\n",
       "No. of variables tried at each split: 22\n",
       "\n",
       "        OOB estimate of  error rate: 16.75%\n",
       "Confusion matrix:\n",
       "    1   2 class.error\n",
       "1 181  19       0.095\n",
       "2  48 152       0.240"
      ]
     },
     "metadata": {},
     "output_type": "display_data"
    },
    {
     "data": {
      "image/png": "[encoded data removed]",
      "text/plain": [
       "plot without title"
      ]
     },
     "metadata": {},
     "output_type": "display_data"
    }
   ],
   "source": [
    "RF\n",
    "varImpPlot_mult(RFimportance)"
   ]
  },
  {
   "cell_type": "markdown",
   "metadata": {},
   "source": [
    "<br><br><br><br>\n",
    "## On réessaie en utilisant la fonction de sampling Addcl1 de CranR"
   ]
  },
  {
   "cell_type": "code",
   "execution_count": 12,
   "metadata": {
    "scrolled": false
   },
   "outputs": [
    {
     "data": {
      "text/plain": [
       "\n",
       "Call:\n",
       " randomForest(x = Data, ntree = 500, mtry = mtry, importance = TRUE,      proximity = TRUE, addclass = 1) \n",
       "               Type of random forest: unsupervised\n",
       "                     Number of trees: 500\n",
       "No. of variables tried at each split: 22\n"
      ]
     },
     "metadata": {},
     "output_type": "display_data"
    },
    {
     "data": {
      "image/png": "[encoded data removed]",
      "text/plain": [
       "plot without title"
      ]
     },
     "metadata": {},
     "output_type": "display_data"
    }
   ],
   "source": [
    "RF2 = randomForest(Data,\n",
    "                    mtry=mtry, \n",
    "                    ntree = 500, \n",
    "                    addclass = 1,\n",
    "                    importance = TRUE,\n",
    "                    proximity = TRUE)\n",
    "RF2\n",
    "varImpPlot(RF2)\n",
    "            "
   ]
  },
  {
   "cell_type": "markdown",
   "metadata": {},
   "source": [
    "# MDS\n",
    "## Addcl1 \"homemade\""
   ]
  },
  {
   "cell_type": "code",
   "execution_count": 13,
   "metadata": {
    "scrolled": false
   },
   "outputs": [
    {
     "data": {
      "image/png": "[encoded data removed]",
      "text/plain": [
       "Plot with title \"Metric MDS\""
      ]
     },
     "metadata": {},
     "output_type": "display_data"
    }
   ],
   "source": [
    "DISS = sqrt(1-RFproxTotal) #la matrice de dissimilarité de la random forest\n",
    "MDS = cmdscale(DISS,eig=TRUE, k=2)\n",
    "x <- MDS$points[,1]\n",
    "y <- MDS$points[,2]\n",
    "plot(x, y, xlab=\"Coordinate 1\", ylab=\"Coordinate 2\", \n",
    "  main=\"Metric MDS\", col = \"blue\")"
   ]
  },
  {
   "cell_type": "markdown",
   "metadata": {},
   "source": [
    "## Addcl1 CranR : 1 seule forêt"
   ]
  },
  {
   "cell_type": "code",
   "execution_count": 14,
   "metadata": {},
   "outputs": [
    {
     "name": "stderr",
     "output_type": "stream",
     "text": [
      "Warning message in RColorBrewer::brewer.pal(nlevs, \"Set1\"):\n",
      "\"minimal value for n is 3, returning requested palette with 3 different levels\n",
      "\""
     ]
    },
    {
     "data": {
      "image/png": "[encoded data removed]",
      "text/plain": [
       "plot without title"
      ]
     },
     "metadata": {},
     "output_type": "display_data"
    }
   ],
   "source": [
    "MDSplot(RF2, RF2$classe)"
   ]
  },
  {
   "cell_type": "markdown",
   "metadata": {},
   "source": [
    "<br><br><br><br>\n",
    "\n",
    "# ExtraTrees"
   ]
  },
  {
   "cell_type": "code",
   "execution_count": 15,
   "metadata": {},
   "outputs": [],
   "source": [
    "mtry_ext = as.integer(sqrt(nb_var))\n",
    "n_copies = 5"
   ]
  },
  {
   "cell_type": "markdown",
   "metadata": {},
   "source": [
    "## Addcl3 : On labelle toute nos données au hasard sur deux classes. (Magie?)"
   ]
  },
  {
   "cell_type": "code",
   "execution_count": 16,
   "metadata": {},
   "outputs": [],
   "source": [
    "addcl3 = function(dat) {\n",
    "    nrow <- dim(dat)[1]\n",
    "    Classe = numeric(nrow)\n",
    "    sample1 = sample(1:nrow, as.integer(nrow/2))\n",
    "    Classe[sample1] = 1;\n",
    "    Classe[-sample1] = 2\n",
    "    dat = cbind(Classe, dat)\n",
    "    }"
   ]
  },
  {
   "cell_type": "markdown",
   "metadata": {},
   "source": [
    "## TODO: Coder matrice de proximité pour extraTrees"
   ]
  }
 ],
 "metadata": {
  "kernelspec": {
   "display_name": "R",
   "language": "R",
   "name": "ir"
  },
  "language_info": {
   "codemirror_mode": "r",
   "file_extension": ".r",
   "mimetype": "text/x-r-source",
   "name": "R",
   "pygments_lexer": "r",
   "version": "3.4.4"
  }
 },
 "nbformat": 4,
 "nbformat_minor": 2
}
